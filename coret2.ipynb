{
 "cells": [
  {
   "cell_type": "code",
   "execution_count": 12,
   "metadata": {},
   "outputs": [],
   "source": [
    "import pandas as pd\n",
    "import json\n",
    "\n",
    "from app.lib.dict import load_dict"
   ]
  },
  {
   "cell_type": "code",
   "execution_count": 13,
   "metadata": {},
   "outputs": [
    {
     "data": {
      "text/plain": [
       "16.926045016077172"
      ]
     },
     "execution_count": 13,
     "metadata": {},
     "output_type": "execute_result"
    }
   ],
   "source": [
    "with open('new_datasets.json', encoding=\"utf-8\") as f:\n",
    "    dataset = json.load(f)\n",
    "\n",
    "target_dict, surah_dict = load_dict()\n",
    "rawlist = []\n",
    "total_label = 0\n",
    "\n",
    "for data in dataset:\n",
    "    text = [data['content']]\n",
    "    target = [0]*len(target_dict)\n",
    "    count = 0\n",
    "    if data['annotation'] is not None:\n",
    "        labels = data['annotation']['labels']\n",
    "        for label in labels:\n",
    "            pos = target_dict.get(label)\n",
    "            target[pos] = 1\n",
    "            count += 1\n",
    "        rawlist.append(text+target)\n",
    "    \n",
    "    total_label += count\n",
    "\n",
    "total_label / 311"
   ]
  },
  {
   "cell_type": "code",
   "execution_count": 14,
   "metadata": {},
   "outputs": [],
   "source": [
    "df = pd.DataFrame(rawlist,columns=['text','text_unused','bahasa','kitab','allah','arsy','agama','petir','guntur','hujan','awan','angin','arab','warna','hijau','merah','biru','hitam','putih','minyak','karang', 'tanah','mutiara','kaca','debu','sutra','tanah liat','besi','emas','perak','kuningan','permata','senjata','dirham','tinta','pena','tabut','perahu','kapal','lampu','kunci','tangga','bahtera','masjid','gereja','biara','masjidil haram','masjidil aqsha','kabah','pisau','panah','baju besi','tubuh','badan','penyakit','sakit','makanan','janin','darah','tulang','telinga','mata','jari','dahi','ubun ubun','jantung','hati','dada','punggung','tangan','kaki','perut','lambung','rambut','kulit','leher','dagu','tumit','usus','bibir','hidung', 'lidah','sayap','rusuk','kusta','daging','madu','susu','garam','roti','khamar','gandum','daging babi','bangkai','burung','tanaman','binatang','ikan','belalang','lebah','laba laba','semut','kutu','nyamuk','lalat','gagak','salwa','hud hud','kebun','mentimun','kurma','tin','jahe','anggur','sayur','daun','kelopak','mayang','zaitun','bawang','kacang','pohon','delima','unta','sapi','babi','kambing','kuda','singa','keledai','bagal','kera','serigala','katak','domba','ular','anjing','malaikat','jin','manusia','binatang melata','jibril','malaikat maut','harut','marut','malik','mikail','syaitan','iblis','raja','anak adam','nabi','firaun','uzair','luqman','jalut','dzulkifli','samiri','thalut','karun','dzulkarnain','haman','aad','tsamud','madyan', 'quraisy','romawi','anshar','badui','tubba','bani israil','yajuj','majuj','orang yang mendiami gua','tentara bergajah','orang yang membuat parit','penduduk rass','penduduk aikah','al hijr','abu lahab','rasul','zakaria','yahya','harun','idris','ilyasa','ayyub','adam','daud','sulaiman','yusuf','yaqub','ishaq','habil','qabil','israil','aazar','muhammad','isa','ibrahim','ismail','shaleh','hud','syuaib','yunus','musa','nuh','luth','ilyas','ahmad','zaid','maryam','al masih','quran','injil','zabur','taurat','islam','nasrani','yahudi','shabiin','majusi','bulan','bumi','matahari','bintang','syira','gugusan bintang','al uzza','manat','al lata','suwwa','baal','nasr','wadd','yaghuts','yauq','berhala','lembu','akhirat','jahiliyah','jumat','sabtu','haji', 'umrah','malam kemuliaan','ramadhan','fajar','kebangkitan','hari kiamat','surga','neraka','firdaus','adn','pohon bidara','salsabil','sijjin','saqar','zaqqum','api yang bergejolak','ufuk','kiblat','dusun','kota','gunung','badar','mekah','baitullah','madinah','babil','hunain','iram','yastrib','shafa','marwa','arafah','sinai','bukit judi','mesir','saba','al ahqaf','imran','keluarga','ayah','ibu','bapak','anak','yatim','saudara','budak','laki','perempuan','harta','niaga','jual beli','hutang','riba','dagang','ibadah','shalat','puasa','zakat','sedekah','negara','bangsa','hukum','adil','kisah','hikmah','ilmu','perang','zalim'])\n"
   ]
  },
  {
   "cell_type": "code",
   "execution_count": 15,
   "metadata": {},
   "outputs": [],
   "source": [
    "from app.lib.preprocess import IndoTextCleaner, StopWordsEliminator\n",
    "from Sastrawi.Stemmer.StemmerFactory import StemmerFactory\n",
    "\n",
    "stemmer = StemmerFactory().create_stemmer()\n",
    "text_cleaner = IndoTextCleaner()\n",
    "sw_elim = StopWordsEliminator()\n",
    "    \n",
    "df['text'] = df['text'].apply(lambda x: text_cleaner.transform(x))\n",
    "df['text'] = df['text'].apply(lambda x: sw_elim.transform(x))\n",
    "df['text'] = df['text'].apply(lambda x: stemmer.stem(x))\n",
    "\n"
   ]
  },
  {
   "cell_type": "code",
   "execution_count": 16,
   "metadata": {},
   "outputs": [
    {
     "data": {
      "text/plain": [
       "'dengan cara itu para muridnya kian intensif melakukan amalan'"
      ]
     },
     "execution_count": 16,
     "metadata": {},
     "output_type": "execute_result"
    }
   ],
   "source": [
    "txt = 'Dengan cara itu, para muridnya kian intensif melakukan amalan'\n",
    "input_txt = pd.Series([txt])\n",
    "\n",
    "input_txt = input_txt.apply(lambda x: text_cleaner.transform(x))\n",
    "\n",
    "input_txt[0]"
   ]
  },
  {
   "cell_type": "code",
   "execution_count": 17,
   "metadata": {},
   "outputs": [
    {
     "data": {
      "text/plain": [
       "0    cara para muridnya kian intensif melakukan amalan\n",
       "dtype: object"
      ]
     },
     "execution_count": 17,
     "metadata": {},
     "output_type": "execute_result"
    }
   ],
   "source": [
    "input_txt = input_txt.apply(lambda x: sw_elim.transform(x))\n",
    "\n",
    "input_txt"
   ]
  },
  {
   "cell_type": "code",
   "execution_count": 18,
   "metadata": {},
   "outputs": [
    {
     "data": {
      "text/plain": [
       "0    cara para murid kian intensif laku amal\n",
       "dtype: object"
      ]
     },
     "execution_count": 18,
     "metadata": {},
     "output_type": "execute_result"
    }
   ],
   "source": [
    "input_txt = input_txt.apply(lambda x: stemmer.stem(x))\n",
    "\n",
    "input_txt"
   ]
  },
  {
   "cell_type": "code",
   "execution_count": 19,
   "metadata": {},
   "outputs": [],
   "source": [
    "df.to_csv('new_processed_datasets.csv', encoding='utf-8', index=False)"
   ]
  },
  {
   "cell_type": "code",
   "execution_count": null,
   "metadata": {},
   "outputs": [],
   "source": []
  }
 ],
 "metadata": {
  "kernelspec": {
   "display_name": "Python 3",
   "language": "python",
   "name": "python3"
  },
  "language_info": {
   "codemirror_mode": {
    "name": "ipython",
    "version": 3
   },
   "file_extension": ".py",
   "mimetype": "text/x-python",
   "name": "python",
   "nbconvert_exporter": "python",
   "pygments_lexer": "ipython3",
   "version": "3.7.1"
  }
 },
 "nbformat": 4,
 "nbformat_minor": 2
}
