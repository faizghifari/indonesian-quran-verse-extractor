{
 "cells": [
  {
   "cell_type": "code",
   "execution_count": 1,
   "metadata": {},
   "outputs": [],
   "source": [
    "import pandas as pd\n",
    "import json\n",
    "\n",
    "from app.lib.dict import load_dict"
   ]
  },
  {
   "cell_type": "code",
   "execution_count": 2,
   "metadata": {},
   "outputs": [
    {
     "data": {
      "text/plain": [
       "6.343971631205674"
      ]
     },
     "execution_count": 2,
     "metadata": {},
     "output_type": "execute_result"
    }
   ],
   "source": [
    "with open('datasets.json', encoding=\"utf-8\") as f:\n",
    "    dataset = json.load(f)\n",
    "\n",
    "target_dict, quran_dict, surah_dict = load_dict()\n",
    "rawlist = []\n",
    "total_label = 0\n",
    "\n",
    "for data in dataset:\n",
    "    text = [data['content']]\n",
    "    target = [0]*len(target_dict)\n",
    "    count = 0\n",
    "    if data['annotation'] is not None:\n",
    "        labels = data['annotation']['labels']\n",
    "        for label in labels:\n",
    "            pos = target_dict.get(label)\n",
    "            target[pos] = 1\n",
    "            count += 1\n",
    "        rawlist.append(text+target)\n",
    "    \n",
    "    total_label += count\n",
    "\n",
    "total_label / 282"
   ]
  },
  {
   "cell_type": "code",
   "execution_count": 3,
   "metadata": {},
   "outputs": [],
   "source": [
    "df = pd.DataFrame(rawlist,columns=['text','fenomena cuaca','bahasa','atribut fisik','zat fisik','artefak','ciptaan yang hidup','kitab suci','allah','singgasana allah','tuhan palsu','agama','benda astronomi','peristiwa','lokasi','petir','guntur','hujan','awan','arab','warna','hijau','logam','mineral','minyak','karang','tanah','mutiara','kaca','debu','sutra','tanah liat','besi','emas','perak','kuningan','permata','tempat ibadah','persenjataan','koin','tinta','pena','tabut','perahu','kapal','lampu','kunci','tangga','bahtera','masjid','gereja','biara','sinagog','masjidil haram','masjidil aqsa','kabah','pisau','panah','baju besi','objek organik','makhluk hidup','bagian tubuh','penyakit','makanan','organisme biologis','embrio','darah','tulang','telinga','mata','jari','dahi','gombak','jantung','tumit','usus','bibir','hidung','lidah','sayap','tulang rusuk','kusta','daging','madu','susu','garam','roti','wine','gandum','daging babi','bangkai','serangga','burung','tanaman','binatang','ikan','belalang','lebah','laba-laba','semut','nyamuk','lalat','gagak','puyuh','hud-hud','timun','kurma','ara','bawang putih','jahe','anggur','herba','daun','kacang','zaitun','bawang','lentil','pohon','delima','unta','sapi','babi','kambing','kuda','singa','keledai','kera','serigala','katak','domba','ular','anjing','malaikat','jin','manusia','daabbah','jibril','malaikat maut','harut','marut','malik','mikail','setan','iblis','raja','anak adam','orang bersejarah','orang-orang bersejarah','nabi','firaun','uzair','luqman','jalut','dzulkifli','samiri','talut','qarun','dzulkarnain','haman','aad','tsamud','madyan','quraisy','romawi','anshar','arab badui','tubba','bani israil','yajuj dan majuj','pemuda kahfi','tentara bergajah','pembuat parit','penduduk rass','penduduk aikah','penduduk al-hijr','abu lahab','ummu jamil','rasul','zakaria','yahya','harun','idris','ilyasa','ayyub','adam','daud','sulaiman','yusuf','yaqub','ishaq','habil','qabil','israil','azar','muhammad','isa','ibrahim','ismail','salih','hud','syuaib','yunus','musa','nuh','luth','ilyas','ahmad','zaid','maryam','messiah','quran','injil','zabur','taurat','islam','kristen','yahudi','shabiin','majusi','bulan','bumi','matahari','bintang','sirius','gugus bintang','uzza','manat','latta','suwa','baal','nasr','wadd','yaghuts','yauq','sesembahan','anak lembu emas','peristiwa bersejarah','peristiwa kalender','peristiwa fisik','peristiwa akhirat','masa jahiliyah','hari jumat','hari sabtu','haji','umrah','lailatul qadar','bulan ramadhan','fajar','hari kebangkitan','hari kiamat','lokasi di akhirat','lokasi geografis','surga','neraka','firdaus','adn','pohon bidara','salsabil','sijjin','saqar','zaqqum','ladha','ufuk','kiblat','gurun','kota','gunung','tempat bersejarah','badar','mekkah','madinah','babilonia','hunain','iram','yastrib','shafa','marwah','arafat','sinai','judiy','mesir','saba','al-ahqaf'])"
   ]
  },
  {
   "cell_type": "code",
   "execution_count": 4,
   "metadata": {},
   "outputs": [],
   "source": [
    "from app.lib.preprocess import IndoTextCleaner, StopWordsEliminator\n",
    "from Sastrawi.Stemmer.StemmerFactory import StemmerFactory\n",
    "\n",
    "stemmer = StemmerFactory().create_stemmer()\n",
    "text_cleaner = IndoTextCleaner()\n",
    "sw_elim = StopWordsEliminator()\n",
    "\n",
    "df['text'] = df['text'].apply(lambda x: text_cleaner.transform(x))\n",
    "df['text'] = df['text'].apply(lambda x: sw_elim.transform(x))\n",
    "df['text'] = df['text'].apply(lambda x: stemmer.stem(x))\n",
    "\n"
   ]
  },
  {
   "cell_type": "code",
   "execution_count": 5,
   "metadata": {},
   "outputs": [
    {
     "data": {
      "text/plain": [
       "'dengan cara itu para muridnya kian intensif melakukan amalan'"
      ]
     },
     "execution_count": 5,
     "metadata": {},
     "output_type": "execute_result"
    }
   ],
   "source": [
    "txt = 'Dengan cara itu, para muridnya kian intensif melakukan amalan'\n",
    "input_txt = pd.Series([txt])\n",
    "\n",
    "input_txt = input_txt.apply(lambda x: text_cleaner.transform(x))\n",
    "\n",
    "input_txt[0]"
   ]
  },
  {
   "cell_type": "code",
   "execution_count": 6,
   "metadata": {},
   "outputs": [
    {
     "data": {
      "text/plain": [
       "0    cara para muridnya kian intensif melakukan amalan\n",
       "dtype: object"
      ]
     },
     "execution_count": 6,
     "metadata": {},
     "output_type": "execute_result"
    }
   ],
   "source": [
    "input_txt = input_txt.apply(lambda x: sw_elim.transform(x))\n",
    "\n",
    "input_txt"
   ]
  },
  {
   "cell_type": "code",
   "execution_count": 7,
   "metadata": {},
   "outputs": [
    {
     "data": {
      "text/plain": [
       "0    cara para murid kian intensif laku amal\n",
       "dtype: object"
      ]
     },
     "execution_count": 7,
     "metadata": {},
     "output_type": "execute_result"
    }
   ],
   "source": [
    "input_txt = input_txt.apply(lambda x: stemmer.stem(x))\n",
    "\n",
    "input_txt"
   ]
  },
  {
   "cell_type": "code",
   "execution_count": 10,
   "metadata": {},
   "outputs": [],
   "source": [
    "df.to_csv('processed_datasets.csv', encoding='utf-8', index=False)"
   ]
  },
  {
   "cell_type": "code",
   "execution_count": null,
   "metadata": {},
   "outputs": [],
   "source": []
  }
 ],
 "metadata": {
  "kernelspec": {
   "display_name": "Python 3",
   "language": "python",
   "name": "python3"
  },
  "language_info": {
   "codemirror_mode": {
    "name": "ipython",
    "version": 3
   },
   "file_extension": ".py",
   "mimetype": "text/x-python",
   "name": "python",
   "nbconvert_exporter": "python",
   "pygments_lexer": "ipython3",
   "version": "3.7.1"
  }
 },
 "nbformat": 4,
 "nbformat_minor": 2
}
