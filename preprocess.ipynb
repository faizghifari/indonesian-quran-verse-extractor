{
 "cells": [
  {
   "cell_type": "code",
   "execution_count": 39,
   "metadata": {},
   "outputs": [],
   "source": [
    "import json\n",
    "import pandas as pd\n",
    "import numpy as np"
   ]
  },
  {
   "cell_type": "code",
   "execution_count": 40,
   "metadata": {},
   "outputs": [],
   "source": [
    "with open('./scraper_dataset/paragraph_islam.json') as f:\n",
    "    data_islam = json.load(f)\n",
    "    \n",
    "with open('./scraper_dataset/paragraph_umum.json') as f:\n",
    "    data_umum = json.load(f)"
   ]
  },
  {
   "cell_type": "code",
   "execution_count": 41,
   "metadata": {},
   "outputs": [],
   "source": [
    "def concat_string(data_object, key):\n",
    "    for data in data_object:\n",
    "        data[key] = ' '.join(data[key])\n",
    "    \n",
    "    return data_object\n",
    "\n",
    "key = 'content'\n",
    "\n",
    "data_islam = concat_string(data_islam, key)\n",
    "\n",
    "data_umum = concat_string(data_umum, key)"
   ]
  },
  {
   "cell_type": "code",
   "execution_count": 43,
   "metadata": {},
   "outputs": [],
   "source": [
    "counter = 1\n",
    "\n",
    "for data in data_islam:\n",
    "    with open('./txt_dataset/data-' + str(counter) + '.txt', 'w', encoding=\"utf-8\") as outfile:  \n",
    "        outfile.write(data[key])\n",
    "    counter += 1"
   ]
  },
  {
   "cell_type": "code",
   "execution_count": 45,
   "metadata": {},
   "outputs": [],
   "source": [
    "for data in data_umum:\n",
    "    with open('./txt_dataset/data-' + str(counter) + '.txt', 'w', encoding=\"utf-8\") as outfile:  \n",
    "        outfile.write(data[key])\n",
    "    counter += 1"
   ]
  },
  {
   "cell_type": "code",
   "execution_count": 34,
   "metadata": {},
   "outputs": [],
   "source": [
    "# with open('islam.json', 'w') as outfile:  \n",
    "#     json.dump(data_islam, outfile)\n",
    "\n",
    "# with open('umum.json', 'w') as outfile:  \n",
    "#     json.dump(data_umum, outfile)"
   ]
  }
 ],
 "metadata": {
  "kernelspec": {
   "display_name": "Python 3",
   "language": "python",
   "name": "python3"
  },
  "language_info": {
   "codemirror_mode": {
    "name": "ipython",
    "version": 3
   },
   "file_extension": ".py",
   "mimetype": "text/x-python",
   "name": "python",
   "nbconvert_exporter": "python",
   "pygments_lexer": "ipython3",
   "version": "3.7.1"
  }
 },
 "nbformat": 4,
 "nbformat_minor": 2
}
