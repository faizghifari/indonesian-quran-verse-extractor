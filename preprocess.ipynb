{
 "cells": [
  {
   "cell_type": "code",
   "execution_count": 26,
   "metadata": {},
   "outputs": [],
   "source": [
    "import json\n",
    "import pandas as pd\n",
    "import numpy as np"
   ]
  },
  {
   "cell_type": "code",
   "execution_count": 27,
   "metadata": {},
   "outputs": [],
   "source": [
    "with open('./scraper_dataset/paragraph_islam.json') as f:\n",
    "    data_islam = json.load(f)\n",
    "    \n",
    "with open('./scraper_dataset/paragraph_umum.json') as f:\n",
    "    data_umum = json.load(f)"
   ]
  },
  {
   "cell_type": "code",
   "execution_count": 28,
   "metadata": {},
   "outputs": [],
   "source": [
    "def concat_string(data_object, key):\n",
    "    for data in data_object:\n",
    "        data[key] = ' '.join(data[key])\n",
    "    \n",
    "    return data_object\n",
    "\n",
    "key = 'content'\n",
    "\n",
    "data_islam = concat_string(data_islam, key)\n",
    "\n",
    "data_umum = concat_string(data_umum, key)"
   ]
  },
  {
   "cell_type": "code",
   "execution_count": 33,
   "metadata": {},
   "outputs": [
    {
     "name": "stdout",
     "output_type": "stream",
     "text": [
      "REPUBLIKA.CO.ID, JERICHO— Organisasi Pembebasan Palestina (PLO) pada Ahad (6/1) mengutuk kunjungan pejabat senior AS ke kota tua Yerusalem, yang diduduki Israel, dengan disertai pejabat Yahudi. Sekretaris Jenderal PLO, Saeb Erekat, mengatakan dalam satu pernyataan, kunjungan  Penasehat Keamanan Nasional AS John Bolton dan Duta Besar AS untuk Israel David Friedman, dengan ditemani beberapa pejabat Israel adalah pelanggaran atas resolusi dan hukum internasional. Hukum internasional menganggap Yerusalem sebagai wilayah yang diduduki. AS pada Desember 2017 mengakui Yerusalem sebagai ibu kota Israel. Tindakan ini  melanggar semua norma internasional. Erekat mengatakan tindakan semacam itu oleh AS mengakibatkan kekacauan, kerusuhan, dan hilangnya hukum.  “Perbuatan tersebut tidak mengubah fakta masa lalu, saat ini dan masa depan bahwa Yerusalem, dengan kota yuanya, akan selalu menjadi ibu kota abadi Palestina,” kata dia seperti dilansir Kantor Berita Palestina, WAFA, Senin (7/1).   Pasukan pendudukan Israel pada Ahad (6/1) malam menutup jalan masuk ke Desa Beit Fajjar, di sebelah selatan Bethlehem di wilayah pendudukan Tepi Barat Sungai Yordania. Mereka melarang orang Palestina masuk-keluar desa tersebut, menurut beberapa saksi mata. Sementara itu, pasukan keamanan Israel menutup dengan penghalang besi jalan regional di dekat Kota Kecil Sa'ir di sebelah utara al-Khalil (Hebron) di bagian selatan Tepi Barat, dan tak mengizinkan kendaraan orang Palestina memasuki wilayah tersebut. Penuturan beberapa sumber keamanan Palestina, penutupan jalan itu memaksa warga Palestina setempat menggunakan jalan alternatif yang lebih jauh untuk sampai ke rumah mereka di beberapa desa dan kota kecil di daerah tersebut.  Menurut kelompok hak asasi manusia, pembatasan gerakan telah menjadi salah satu alat utama yang diterapkan Israel untuk memaksakan rezim pendudukannya atas penduduk Palestina di wilayah yang diduduki. \"Kebebasan bergerak orang Palestina di wilayah yang diduduki sepenuhnya berada pada kehendak negara, instruksi yang diberikan kepada tentara di Kantor Koordinasi Kabupaten lokal, dan cara mereka melaksanakannya,\" kata B'Tselem, satu kelompok hak asasi manusia Israel, di dalam satu laporan. \"Kondisi keadaan ini memaksa rakyat Palestina untuk hidup dalam ketidak-pastian terus-menerus, sehingga membuat mereka kesulitan untuk membuat rencana dan melaksanakan tugas sederhana,\" kata lembaga tersebut.   \n",
      "REPUBLIKA.CO.ID, JAKARTA -- Kitab Minhaj al-'Abidin memaparkan tips meraih kesempurnaan ibadah. Terdapat tahapan-tahapan yang mesti dilalui seorang hamba yang bersungguh-sungguh ingin mencapai ridla Allah SWT. Jumlah tahapan yang dijelaskan sebanyak tujuh tahapan, yaitu pertama: tahap ilmu dan makrifat; kedua, tahap tobat; ketiga, tahap godaan; keempat, tahap kendala-kendala di jalan ibadah; kelima, tahap dorongan dan motivasi; keenam, tahap menghindari faktor-faktor pengrusak ibadah; dan ketujuh, tahap pujian dan syukur. Jika diformulasikan ulang sesuai dengan sistem manajemen modern, ketujuh tahapan itu tercakup dalam prinsip SWOT (strength/kekuatan, weakness/kelemahan, opportunity/kesempatan, dan threat/tantangan). Kajian tentang hal ini pernah pula ditulis oleh Ismail Zubir dan dipublikasikan dalam blog pribadinya. Pertama, kekuatan. Kekuatan dalam ibadah sebagaimana dipaparkan Al-Ghazali dalam Minhaj al-'Abidin terletak pada ilmu dan makrifat, serta harus ada dorongan dan motivasi. Sang Hujjatul Islam meletakkan ilmu di awal pembahasan bukunya dengan landasan hadis Nabi SAW, ''Ilmu itu pemimpin bagi amal, dan amal adalah pengikutnya.'' Hanya dengan ilmu, kata Al-Ghazali, ibadah dapat dipraktikkan dengan benar. Dan, ilmu-ilmu yang perlu dikuasai seorang hamba, antara lain adalah ilmu tauhid, ilmu sirri (rahasia ibadah), dan ilmu syariat. Di samping harus memiliki ilmu, seorang hamba juga harus memiliki dorongan dan motivasi ibadah. Dorongan dan motivasi yang dimaksud Al-Ghazali adalah rasa takut (khauf) dan harapan (raja'). Rasa takut mencegah seseorang dari perbuatan maksiat. Sedangkan harapan menumbuhkan optimisme dalam menghadapi segala kesusahan hidup. Kedua, kelemahan. Kelemahan seorang hamba dalam beribadah terletak pada ketidakmampuannya menghadapi ujian. Ragam ujian yang dijelaskan kitab Minhajul Abidin meliputi rezeki dan hawa nafsu, perasaan was-was dan khawatir, ketentuan Allah dalam takdir, serta musibah dan kesulitan hidup. Untuk menghadapi segala kelemahan tersebut, Al-Ghazali menyarankan agar seorang hamba senantiasa mengingat kemurahan Allah SWT. ''Engkau harus kembali mengingat akan banyaknya pertolongan serta nikmat Allah kepadamu. Semua itu akan membawamu pada harapan,'' tegas Al-Ghazali. Penjelasan terperinci tentang tema ini terdapat dalam prinsip SWOT yang ketiga. Prinsip ketiga adalah peluang. Kesempatan seorang hamba untuk mencapai kemuliaan di hadapan Allah selalu terbuka. Allah akan melimpahkan rahmat dan ampunan-Nya selama seorang hamba mau bersyukur atas nikmat dan karunia-Nya. Al-Ghazali mempertegas pernyataan tersebut dengan sebuah ayat, ''Sesungguhnya jika engkau bersyukur, maka pasti Kami akan menambah (nikmat) kepadamu.'' (Ibrahim: 7). Sedangkan prinsip yang terakhir adalah tantangan dan rintangan. Rintangan yang menghalangi niat tulus seorang hamba dalam beribadah sangat banyak. Secara umum Al-Ghazali menyebut empat macam godaan, yaitu dunia, manusia, setan, dan hawa nafsu. Ketundukan pada hawa nafsu mengakibatkan seseorang punya sifat riya' (pamer) dan ujub (sombong). Keduanya, menurut Al-Ghazali, berpotensi merusak nilai ibadah, bahkan berdampak pada dicabutnya keimanan dari hati seseorang.  \n"
     ]
    }
   ],
   "source": [
    "print(data_umum[5667][key])\n",
    "\n",
    "print(data_islam[3987][key])"
   ]
  },
  {
   "cell_type": "code",
   "execution_count": 34,
   "metadata": {},
   "outputs": [],
   "source": [
    "with open('islam.json', 'w') as outfile:  \n",
    "    json.dump(data_islam, outfile)\n",
    "\n",
    "with open('umum.json', 'w') as outfile:  \n",
    "    json.dump(data_umum, outfile)"
   ]
  },
  {
   "cell_type": "code",
   "execution_count": null,
   "metadata": {},
   "outputs": [],
   "source": [
    "fenomena cuaca\tbahasa\tatribut fisik\tzat fisik\tartefak\tciptaan yang hidup\tkitab suci\tallah\tsinggasana allah\ttuhan palsu\tagama\tbenda astronomi\tperistiwa\tlokasi\tpetir\tguntur\thujan\tawan\tarab\twarna\thijau\tlogam\tmineral\tminyak\tkarang\ttanah\tmutiara\tkaca\tdebu\tsutra\ttanah liat\tbesi\temas\tperak\tkuningan\tpermata\ttempat ibadah\tpersenjataan\tkoin\ttinta\tpena\ttabut\tperahu\tkapal\tlampu\tkunci\ttangga\tbahtera\tmasjid\tgereja\tbiara\tsinagog\tmasjidil haram\tmasjidil aqsa\tkabah\tpisau\tpanah\tbaju besi\tobjek organik\tmakhluk hidup\tbagian tubuh\tpenyakit\tmakanan\torganisme biologis\tembrio\tdarah\ttulang\ttelinga\tmata\tjari\tdahi\tgombak\tjantung\ttumit\tusus\tbibir\thidung\tlidah\tsayap\ttulang rusuk\tkusta\tdaging\tmadu\tsusu\tgaram\troti\twine\tgandum\tdaging babi\tbangkai\tserangga\tburung\ttanaman\tbinatang\tikan\tbelalang\tlebah\tlaba-laba\tsemut\tnyamuk\tlalat\tgagak\tpuyuh\thud-hud\ttimun\tkurma\tara\tbawang putih\tjahe\tanggur\therba\tdaun\tkacang\tzaitun\tbawang\tlentil\tpohon\tdelima\tunta\tsapi\tbabi\tkambing\tkuda\tsinga\tkeledai\tkera\tserigala\tkatak\tdomba\tular\tanjing\tmalaikat\tjin\tmanusia\tdaabbah\tjibril\tmalaikat maut\tharut\tmarut\tmalik\tmikail\tsetan\tiblis\traja\tanak adam\torang bersejarah\torang-orang bersejarah\tnabi\tfiraun\tuzair\tluqman\tjalut\tdzulkifli\tsamiri\ttalut\tqarun\tdzulkarnain\thaman\taad\ttsamud\tmadyan\tquraisy\tromawi\tanshar\tarab badui\ttubba\tbani israil\tyajuj dan majuj\tpemuda kahfi\ttentara bergajah\tpembuat parit\tpenduduk rass\tpenduduk aikah\tpenduduk al-hijr\tabu lahab\tummu jamil\trasul\tzakaria\tyahya\tharun\tidris\tilyasa\tayyub\tadam\tdaud\tsulaiman\tyusuf\tyaqub\tishaq\thabil\tqabil\tisrail\tazar\tmuhammad\tisa\tibrahim\tismail\tsalih\thud\tsyuaib\tyunus\tmusa\tnuh\tluth\tilyas\tahmad\tzaid\tmaryam\tmessiah\tquran\tinjil\tzabur\ttaurat\tislam\tkristen\tyahudi\tshabiin\tmajusi\tbulan\tbumi\tmatahari\tbintang\tsirius\tgugus bintang\tuzza\tmanat\tlatta\tsuwa\tbaal\tnasr\twadd\tyaghuts\tyauq\tsesembahan\tanak lembu emas\tperistiwa bersejarah\tperistiwa kalender\tperistiwa fisik\tperistiwa akhirat\tmasa jahiliyah\thari jumat\thari sabtu\thaji\tumrah\tlailatul qadar\tbulan ramadhan\tfajar\thari kebangkitan\thari kiamat\tlokasi di akhirat\tlokasi geografis\tsurga\tneraka\tfirdaus\tadn\tpohon bidara\tsalsabil\tsijjin\tsaqar\tzaqqum\tladha\tufuk\tkiblat\tgurun\tkota\tgunung\ttempat bersejarah\tbadar\tmekkah\tmadinah\tbabilonia\thunain\tiram,yastrib\tshafa\tmarwah\tarafat\tsinai\tjudiy\tmesir\tsaba\tal-ahqaf"
   ]
  }
 ],
 "metadata": {
  "kernelspec": {
   "display_name": "Python 3",
   "language": "python",
   "name": "python3"
  },
  "language_info": {
   "codemirror_mode": {
    "name": "ipython",
    "version": 3
   },
   "file_extension": ".py",
   "mimetype": "text/x-python",
   "name": "python",
   "nbconvert_exporter": "python",
   "pygments_lexer": "ipython3",
   "version": "3.7.1"
  }
 },
 "nbformat": 4,
 "nbformat_minor": 2
}
