{
 "cells": [
  {
   "cell_type": "code",
   "execution_count": 16,
   "metadata": {},
   "outputs": [],
   "source": [
    "import numpy as np\n",
    "import pandas as pd"
   ]
  },
  {
   "cell_type": "code",
   "execution_count": 18,
   "metadata": {},
   "outputs": [],
   "source": [
    "raw_id_quran = pd.read_csv(\"quran/Indonesian.csv\")\n",
    "raw_ar_quran = pd.read_csv(\"quran/Arabic.csv\")\n",
    "raw_en_quran = pd.read_csv(\"quran/English.csv\")"
   ]
  },
  {
   "cell_type": "code",
   "execution_count": 20,
   "metadata": {},
   "outputs": [],
   "source": [
    "id_surah = []\n",
    "id_ayah = []\n",
    "id_txt = []\n",
    "\n",
    "for id_text in raw_id_quran['surah|ayah|text']:\n",
    "    surah_temp, ayah_temp, txt_temp = id_text.split('|')\n",
    "    id_surah.append(surah_temp)\n",
    "    id_ayah.append(ayah_temp)\n",
    "    id_txt.append(txt_temp)\n",
    "\n",
    "df = pd.DataFrame(list(zip(id_surah, id_ayah, id_txt)), \n",
    "                  columns =['surah', 'ayah', 'text'])\n",
    "\n",
    "df.to_csv('quran/Indonesian_clean.csv', encoding='utf-8', index=False)"
   ]
  },
  {
   "cell_type": "code",
   "execution_count": 21,
   "metadata": {},
   "outputs": [],
   "source": [
    "from app.lib.preprocess import IndoTextCleaner, StopWordsEliminator\n",
    "from Sastrawi.Stemmer.StemmerFactory import StemmerFactory\n",
    "\n",
    "stemmer = StemmerFactory().create_stemmer()\n",
    "\n",
    "itc = IndoTextCleaner()\n",
    "swe = StopWordsEliminator()\n",
    "\n",
    "df['text'] = df['text'].apply(lambda x: itc.transform(x))\n",
    "df['text'] = df['text'].apply(lambda x: swe.transform(x))\n",
    "df['text'] = df['text'].apply(lambda x: stemmer.stem(x))"
   ]
  },
  {
   "cell_type": "code",
   "execution_count": 22,
   "metadata": {},
   "outputs": [],
   "source": [
    "from sklearn.feature_extraction.text import TfidfVectorizer\n",
    "tfidf_vectorizer = TfidfVectorizer()\n",
    "\n",
    "tfidf_matrix = tfidf_vectorizer.fit_transform(df['text'])\n",
    "\n",
    "import pickle\n",
    "\n",
    "pickle.dump(tfidf_vectorizer, open(\"app/pkl/tfidf_vectorizer.pkl\",\"wb\"))\n",
    "pickle.dump(tfidf_matrix, open(\"app/pkl/tfidf_verse_matrix.pkl\",\"wb\"))"
   ]
  },
  {
   "cell_type": "code",
   "execution_count": 23,
   "metadata": {},
   "outputs": [
    {
     "output_type": "execute_result",
     "data": {
      "text/plain": [
       "surah                            26\n",
       "ayah                            160\n",
       "text     kaum luth dusta rasulrasul\n",
       "Name: 3091, dtype: object"
      ]
     },
     "metadata": {},
     "execution_count": 23
    }
   ],
   "source": [
    "from sklearn.metrics.pairwise import cosine_similarity\n",
    "\n",
    "input_text = pd.Series(['luth'])\n",
    "\n",
    "input_text = input_text.apply(lambda x: itc.transform(x))\n",
    "input_text = input_text.apply(lambda x: swe.transform(x))\n",
    "input_text = input_text.apply(lambda x: stemmer.stem(x))\n",
    "\n",
    "input_vector = tfidf_vectorizer.transform(input_text)\n",
    "\n",
    "res = cosine_similarity(input_vector, tfidf_matrix)\n",
    "\n",
    "res_sorted = sorted(range(len(res[0])), key=lambda k: res[0][k], reverse = True)\n",
    "\n",
    "df.loc[ res_sorted[0] , : ]"
   ]
  }
 ],
 "metadata": {
  "kernelspec": {
   "display_name": "Python 3",
   "language": "python",
   "name": "python3"
  },
  "language_info": {
   "codemirror_mode": {
    "name": "ipython",
    "version": 3
   },
   "file_extension": ".py",
   "mimetype": "text/x-python",
   "name": "python",
   "nbconvert_exporter": "python",
   "pygments_lexer": "ipython3",
   "version": "3.7.4-final"
  }
 },
 "nbformat": 4,
 "nbformat_minor": 2
}